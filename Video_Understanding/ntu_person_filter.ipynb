{
 "cells": [
  {
   "cell_type": "markdown",
   "metadata": {},
   "source": [
    "# ntu_person_filtering\n",
    "\n",
    "1. 동영상내의 사람이 있는 구간과 없는 구간을 구분  \n",
    "2. anno을 넣기 위해서 비디오 이름을 변경  "
   ]
  },
  {
   "cell_type": "code",
   "execution_count": 1,
   "metadata": {},
   "outputs": [],
   "source": [
    "import os\n",
    "os.chdir(r\"D:\\pose_prediction\\data_agent\\Video_Understanding\\mmaction2\")"
   ]
  },
  {
   "cell_type": "code",
   "execution_count": 6,
   "metadata": {},
   "outputs": [
    {
     "name": "stdout",
     "output_type": "stream",
     "text": [
      "02/20 17:21:52 - mmengine - \u001b[5m\u001b[4m\u001b[33mWARNING\u001b[0m - The current default scope \"mmpose\" is not \"mmdet\", `init_default_scope` will force set the currentdefault scope to \"mmdet\".\n",
      "Loads checkpoint by http backend from path: https://download.openmmlab.com/mmdetection/v2.0/faster_rcnn/faster_rcnn_r50_fpn_1x_coco-person/faster_rcnn_r50_fpn_1x_coco-person_20201216_175929-d022e227.pth\n",
      "Performing Human Detection for each frame\n",
      "[>>>>>>>>>>>>>>>>>>>>>>>>>>>>>>>>] 10/10, 0.3 task/s, elapsed: 30s, ETA:     0s\n",
      "02/20 17:22:22 - mmengine - \u001b[5m\u001b[4m\u001b[33mWARNING\u001b[0m - The current default scope \"mmdet\" is not \"mmpose\", `init_default_scope` will force set the currentdefault scope to \"mmpose\".\n"
     ]
    },
    {
     "name": "stderr",
     "output_type": "stream",
     "text": [
      "C:\\Program Files\\WindowsApps\\PythonSoftwareFoundation.Python.3.8_3.8.2800.0_x64__qbz5n2kfra8p0\\lib\\tempfile.py:818: ResourceWarning: Implicitly cleaning up <TemporaryDirectory 'C:\\\\Users\\\\zesky\\\\AppData\\\\Local\\\\Temp\\\\tmp731tt3vc'>\n",
      "  _warnings.warn(warn_message, ResourceWarning)\n"
     ]
    },
    {
     "name": "stdout",
     "output_type": "stream",
     "text": [
      "Loads checkpoint by http backend from path: https://download.openmmlab.com/mmpose/top_down/hrnet/hrnet_w32_coco_256x192-c78dce93_20200708.pth\n",
      "Performing Human Pose Estimation for each frame\n",
      "[                                                  ] 0/10, elapsed: 0s, ETA:"
     ]
    },
    {
     "name": "stderr",
     "output_type": "stream",
     "text": [
      "d:\\pose_prediction\\data_agent\\Video_Understanding\\mmaction\\lib\\site-packages\\mmpose\\apis\\inference.py:121: UserWarning: Can not load dataset_meta from the checkpoint or the model config. Use COCO metainfo by default.\n",
      "  warnings.warn('Can not load dataset_meta from the checkpoint or the '\n",
      "d:\\pose_prediction\\data_agent\\Video_Understanding\\mmaction\\lib\\site-packages\\mmpose\\datasets\\datasets\\utils.py:102: UserWarning: The metainfo config file \"configs/_base_/datasets/coco.py\" does not exist. A matched config file \"d:\\pose_prediction\\data_agent\\Video_Understanding\\mmaction\\lib\\site-packages\\mmpose\\.mim\\configs\\_base_\\datasets\\coco.py\" will be used instead.\n",
      "  warnings.warn(\n",
      "d:\\pose_prediction\\data_agent\\Video_Understanding\\mmaction\\lib\\site-packages\\mmcv\\transforms\\loading.py:69: DeprecationWarning: \"file_client_args\" will be deprecated in future. Please use \"backend_args\" instead\n",
      "  warnings.warn(\n"
     ]
    },
    {
     "name": "stdout",
     "output_type": "stream",
     "text": [
      "[>>>>>>>>>>>>>>>>>>>>>>>>>>>>>>>>>] 10/10, 2.9 task/s, elapsed: 3s, ETA:     0s\n",
      "Unexpected exception formatting exception. Falling back to standard exception\n"
     ]
    },
    {
     "name": "stderr",
     "output_type": "stream",
     "text": [
      "Traceback (most recent call last):\n",
      "  File \"d:\\pose_prediction\\data_agent\\Video_Understanding\\mmaction\\lib\\site-packages\\IPython\\core\\interactiveshell.py\", line 3508, in run_code\n",
      "    exec(code_obj, self.user_global_ns, self.user_ns)\n",
      "  File \"C:\\Users\\zesky\\AppData\\Local\\Temp\\ipykernel_5824\\1139629008.py\", line 20, in <module>\n",
      "    anno = ntu_pose_extraction.ntu_pose_extraction(video, skip_postproc)\n",
      "  File \"D:\\pose_prediction\\data_agent\\Video_Understanding\\mmaction2\\../mmaction2/tools/data/skeleton\\ntu_pose_extraction.py\", line 324, in ntu_pose_extraction\n",
      "IndexError: list index out of range\n",
      "\n",
      "During handling of the above exception, another exception occurred:\n",
      "\n",
      "Traceback (most recent call last):\n",
      "  File \"d:\\pose_prediction\\data_agent\\Video_Understanding\\mmaction\\lib\\site-packages\\IPython\\core\\interactiveshell.py\", line 2105, in showtraceback\n",
      "    stb = self.InteractiveTB.structured_traceback(\n",
      "  File \"d:\\pose_prediction\\data_agent\\Video_Understanding\\mmaction\\lib\\site-packages\\IPython\\core\\ultratb.py\", line 1396, in structured_traceback\n",
      "    return FormattedTB.structured_traceback(\n",
      "  File \"d:\\pose_prediction\\data_agent\\Video_Understanding\\mmaction\\lib\\site-packages\\IPython\\core\\ultratb.py\", line 1287, in structured_traceback\n",
      "    return VerboseTB.structured_traceback(\n",
      "  File \"d:\\pose_prediction\\data_agent\\Video_Understanding\\mmaction\\lib\\site-packages\\IPython\\core\\ultratb.py\", line 1140, in structured_traceback\n",
      "    formatted_exception = self.format_exception_as_a_whole(etype, evalue, etb, number_of_lines_of_context,\n",
      "  File \"d:\\pose_prediction\\data_agent\\Video_Understanding\\mmaction\\lib\\site-packages\\IPython\\core\\ultratb.py\", line 1055, in format_exception_as_a_whole\n",
      "    frames.append(self.format_record(record))\n",
      "  File \"d:\\pose_prediction\\data_agent\\Video_Understanding\\mmaction\\lib\\site-packages\\IPython\\core\\ultratb.py\", line 955, in format_record\n",
      "    frame_info.lines, Colors, self.has_colors, lvals\n",
      "  File \"d:\\pose_prediction\\data_agent\\Video_Understanding\\mmaction\\lib\\site-packages\\IPython\\core\\ultratb.py\", line 778, in lines\n",
      "    return self._sd.lines\n",
      "  File \"d:\\pose_prediction\\data_agent\\Video_Understanding\\mmaction\\lib\\site-packages\\stack_data\\utils.py\", line 145, in cached_property_wrapper\n",
      "    value = obj.__dict__[self.func.__name__] = self.func(obj)\n",
      "  File \"d:\\pose_prediction\\data_agent\\Video_Understanding\\mmaction\\lib\\site-packages\\stack_data\\core.py\", line 734, in lines\n",
      "    pieces = self.included_pieces\n",
      "  File \"d:\\pose_prediction\\data_agent\\Video_Understanding\\mmaction\\lib\\site-packages\\stack_data\\utils.py\", line 145, in cached_property_wrapper\n",
      "    value = obj.__dict__[self.func.__name__] = self.func(obj)\n",
      "  File \"d:\\pose_prediction\\data_agent\\Video_Understanding\\mmaction\\lib\\site-packages\\stack_data\\core.py\", line 681, in included_pieces\n",
      "    pos = scope_pieces.index(self.executing_piece)\n",
      "  File \"d:\\pose_prediction\\data_agent\\Video_Understanding\\mmaction\\lib\\site-packages\\stack_data\\utils.py\", line 145, in cached_property_wrapper\n",
      "    value = obj.__dict__[self.func.__name__] = self.func(obj)\n",
      "  File \"d:\\pose_prediction\\data_agent\\Video_Understanding\\mmaction\\lib\\site-packages\\stack_data\\core.py\", line 660, in executing_piece\n",
      "    return only(\n",
      "  File \"d:\\pose_prediction\\data_agent\\Video_Understanding\\mmaction\\lib\\site-packages\\executing\\executing.py\", line 116, in only\n",
      "    raise NotOneValueFound('Expected one value, found 0')\n",
      "executing.executing.NotOneValueFound: Expected one value, found 0\n"
     ]
    }
   ],
   "source": [
    "import sys\n",
    "import mmengine\n",
    "sys.path.insert(0, '../mmaction2/tools/data/skeleton')\n",
    "from types import SimpleNamespace\n",
    "import ntu_pose_extraction\n",
    "\n",
    "config = SimpleNamespace(\n",
    "    det_config='demo/demo_configs/faster-rcnn_r50-caffe_fpn_ms-1x_coco-person.py',\n",
    "    det_checkpoint='https://download.openmmlab.com/mmdetection/v2.0/faster_rcnn/faster_rcnn_r50_fpn_1x_coco-person/faster_rcnn_r50_fpn_1x_coco-person_20201216_175929-d022e227.pth',\n",
    "    det_score_thr=0.90,\n",
    "    pose_config='demo/demo_configs/td-hm_hrnet-w32_8xb64-210e_coco-256x192_infer.py',\n",
    "    pose_checkpoint='https://download.openmmlab.com/mmpose/top_down/hrnet/hrnet_w32_coco_256x192-c78dce93_20200708.pth',\n",
    "    device='cpu'\n",
    ")\n",
    "\n",
    "ntu_pose_extraction.args = config\n",
    "\n",
    "video = r\"D:\\pose_prediction\\data_agent\\data\\video_split\\Effective Boxing Combos To Drill_chunk24.mp4\"\n",
    "skip_postproc = True\n",
    "anno = ntu_pose_extraction.ntu_pose_extraction(video, skip_postproc)\n"
   ]
  },
  {
   "cell_type": "markdown",
   "metadata": {},
   "source": [
    "### 파일명이 anno format에 맞지 않아서 문제 발생"
   ]
  },
  {
   "cell_type": "code",
   "execution_count": 8,
   "metadata": {},
   "outputs": [
    {
     "name": "stdout",
     "output_type": "stream",
     "text": [
      "Loads checkpoint by http backend from path: https://download.openmmlab.com/mmdetection/v2.0/faster_rcnn/faster_rcnn_r50_fpn_1x_coco-person/faster_rcnn_r50_fpn_1x_coco-person_20201216_175929-d022e227.pth\n",
      "Performing Human Detection for each frame\n",
      "[>>>>>>>>>>>>>>>>>>>>>>>>>>>>>>>>] 10/10, 0.3 task/s, elapsed: 36s, ETA:     0s\n",
      "Loads checkpoint by http backend from path: https://download.openmmlab.com/mmpose/top_down/hrnet/hrnet_w32_coco_256x192-c78dce93_20200708.pth\n",
      "Performing Human Pose Estimation for each frame\n",
      "[                                                  ] 0/10, elapsed: 0s, ETA:"
     ]
    },
    {
     "name": "stderr",
     "output_type": "stream",
     "text": [
      "d:\\pose_prediction\\data_agent\\Video_Understanding\\mmaction\\lib\\site-packages\\mmpose\\apis\\inference.py:121: UserWarning: Can not load dataset_meta from the checkpoint or the model config. Use COCO metainfo by default.\n",
      "  warnings.warn('Can not load dataset_meta from the checkpoint or the '\n",
      "d:\\pose_prediction\\data_agent\\Video_Understanding\\mmaction\\lib\\site-packages\\mmpose\\datasets\\datasets\\utils.py:102: UserWarning: The metainfo config file \"configs/_base_/datasets/coco.py\" does not exist. A matched config file \"d:\\pose_prediction\\data_agent\\Video_Understanding\\mmaction\\lib\\site-packages\\mmpose\\.mim\\configs\\_base_\\datasets\\coco.py\" will be used instead.\n",
      "  warnings.warn(\n",
      "d:\\pose_prediction\\data_agent\\Video_Understanding\\mmaction\\lib\\site-packages\\mmcv\\transforms\\loading.py:69: DeprecationWarning: \"file_client_args\" will be deprecated in future. Please use \"backend_args\" instead\n",
      "  warnings.warn(\n"
     ]
    },
    {
     "name": "stdout",
     "output_type": "stream",
     "text": [
      "[>>>>>>>>>>>>>>>>>>>>>>>>>>>>>>>>>] 10/10, 2.3 task/s, elapsed: 4s, ETA:     0s\n",
      "Unexpected exception formatting exception. Falling back to standard exception\n"
     ]
    },
    {
     "name": "stderr",
     "output_type": "stream",
     "text": [
      "Traceback (most recent call last):\n",
      "  File \"d:\\pose_prediction\\data_agent\\Video_Understanding\\mmaction\\lib\\site-packages\\IPython\\core\\interactiveshell.py\", line 3508, in run_code\n",
      "    exec(code_obj, self.user_global_ns, self.user_ns)\n",
      "  File \"C:\\Users\\zesky\\AppData\\Local\\Temp\\ipykernel_5824\\2665354844.py\", line 3, in <module>\n",
      "    anno = ntu_pose_extraction.ntu_pose_extraction(video, skip_postproc)\n",
      "  File \"D:\\pose_prediction\\data_agent\\Video_Understanding\\mmaction2\\../mmaction2/tools/data/skeleton\\ntu_pose_extraction.py\", line 324, in ntu_pose_extraction\n",
      "IndexError: list index out of range\n",
      "\n",
      "During handling of the above exception, another exception occurred:\n",
      "\n",
      "Traceback (most recent call last):\n",
      "  File \"d:\\pose_prediction\\data_agent\\Video_Understanding\\mmaction\\lib\\site-packages\\IPython\\core\\interactiveshell.py\", line 2105, in showtraceback\n",
      "    stb = self.InteractiveTB.structured_traceback(\n",
      "  File \"d:\\pose_prediction\\data_agent\\Video_Understanding\\mmaction\\lib\\site-packages\\IPython\\core\\ultratb.py\", line 1396, in structured_traceback\n",
      "    return FormattedTB.structured_traceback(\n",
      "  File \"d:\\pose_prediction\\data_agent\\Video_Understanding\\mmaction\\lib\\site-packages\\IPython\\core\\ultratb.py\", line 1287, in structured_traceback\n",
      "    return VerboseTB.structured_traceback(\n",
      "  File \"d:\\pose_prediction\\data_agent\\Video_Understanding\\mmaction\\lib\\site-packages\\IPython\\core\\ultratb.py\", line 1140, in structured_traceback\n",
      "    formatted_exception = self.format_exception_as_a_whole(etype, evalue, etb, number_of_lines_of_context,\n",
      "  File \"d:\\pose_prediction\\data_agent\\Video_Understanding\\mmaction\\lib\\site-packages\\IPython\\core\\ultratb.py\", line 1055, in format_exception_as_a_whole\n",
      "    frames.append(self.format_record(record))\n",
      "  File \"d:\\pose_prediction\\data_agent\\Video_Understanding\\mmaction\\lib\\site-packages\\IPython\\core\\ultratb.py\", line 955, in format_record\n",
      "    frame_info.lines, Colors, self.has_colors, lvals\n",
      "  File \"d:\\pose_prediction\\data_agent\\Video_Understanding\\mmaction\\lib\\site-packages\\IPython\\core\\ultratb.py\", line 778, in lines\n",
      "    return self._sd.lines\n",
      "  File \"d:\\pose_prediction\\data_agent\\Video_Understanding\\mmaction\\lib\\site-packages\\stack_data\\utils.py\", line 145, in cached_property_wrapper\n",
      "    value = obj.__dict__[self.func.__name__] = self.func(obj)\n",
      "  File \"d:\\pose_prediction\\data_agent\\Video_Understanding\\mmaction\\lib\\site-packages\\stack_data\\core.py\", line 734, in lines\n",
      "    pieces = self.included_pieces\n",
      "  File \"d:\\pose_prediction\\data_agent\\Video_Understanding\\mmaction\\lib\\site-packages\\stack_data\\utils.py\", line 145, in cached_property_wrapper\n",
      "    value = obj.__dict__[self.func.__name__] = self.func(obj)\n",
      "  File \"d:\\pose_prediction\\data_agent\\Video_Understanding\\mmaction\\lib\\site-packages\\stack_data\\core.py\", line 681, in included_pieces\n",
      "    pos = scope_pieces.index(self.executing_piece)\n",
      "  File \"d:\\pose_prediction\\data_agent\\Video_Understanding\\mmaction\\lib\\site-packages\\stack_data\\utils.py\", line 145, in cached_property_wrapper\n",
      "    value = obj.__dict__[self.func.__name__] = self.func(obj)\n",
      "  File \"d:\\pose_prediction\\data_agent\\Video_Understanding\\mmaction\\lib\\site-packages\\stack_data\\core.py\", line 660, in executing_piece\n",
      "    return only(\n",
      "  File \"d:\\pose_prediction\\data_agent\\Video_Understanding\\mmaction\\lib\\site-packages\\executing\\executing.py\", line 116, in only\n",
      "    raise NotOneValueFound('Expected one value, found 0')\n",
      "executing.executing.NotOneValueFound: Expected one value, found 0\n"
     ]
    }
   ],
   "source": [
    "video = r\"D:\\pose_prediction\\data_agent\\data\\video_split\\Effective Boxing Combos To Drill_chunk24.mp4\"\n",
    "skip_postproc = True\n",
    "anno = ntu_pose_extraction.ntu_pose_extraction(video, skip_postproc)\n"
   ]
  },
  {
   "cell_type": "code",
   "execution_count": 7,
   "metadata": {},
   "outputs": [
    {
     "name": "stdout",
     "output_type": "stream",
     "text": [
      "Loads checkpoint by http backend from path: https://download.openmmlab.com/mmdetection/v2.0/faster_rcnn/faster_rcnn_r50_fpn_1x_coco-person/faster_rcnn_r50_fpn_1x_coco-person_20201216_175929-d022e227.pth\n",
      "Performing Human Detection for each frame\n",
      "[>>>>>>>>>>>>>>>>>>>>>>>>>>>>>>>>] 10/10, 0.3 task/s, elapsed: 34s, ETA:     0s\n",
      "Loads checkpoint by http backend from path: https://download.openmmlab.com/mmpose/top_down/hrnet/hrnet_w32_coco_256x192-c78dce93_20200708.pth\n",
      "Performing Human Pose Estimation for each frame\n",
      "[                                                  ] 0/10, elapsed: 0s, ETA:"
     ]
    },
    {
     "name": "stderr",
     "output_type": "stream",
     "text": [
      "d:\\pose_prediction\\data_agent\\Video_Understanding\\mmaction\\lib\\site-packages\\mmpose\\apis\\inference.py:121: UserWarning: Can not load dataset_meta from the checkpoint or the model config. Use COCO metainfo by default.\n",
      "  warnings.warn('Can not load dataset_meta from the checkpoint or the '\n",
      "d:\\pose_prediction\\data_agent\\Video_Understanding\\mmaction\\lib\\site-packages\\mmpose\\datasets\\datasets\\utils.py:102: UserWarning: The metainfo config file \"configs/_base_/datasets/coco.py\" does not exist. A matched config file \"d:\\pose_prediction\\data_agent\\Video_Understanding\\mmaction\\lib\\site-packages\\mmpose\\.mim\\configs\\_base_\\datasets\\coco.py\" will be used instead.\n",
      "  warnings.warn(\n",
      "d:\\pose_prediction\\data_agent\\Video_Understanding\\mmaction\\lib\\site-packages\\mmcv\\transforms\\loading.py:69: DeprecationWarning: \"file_client_args\" will be deprecated in future. Please use \"backend_args\" instead\n",
      "  warnings.warn(\n"
     ]
    },
    {
     "name": "stdout",
     "output_type": "stream",
     "text": [
      "[>>>>>>>>>>>>>>>>>>>>>>>>>>>>>>>>>] 10/10, 2.7 task/s, elapsed: 4s, ETA:     0s\n"
     ]
    }
   ],
   "source": [
    "video = r\"D:\\pose_prediction\\data_agent\\data\\video_split\\S001C001P001R001A001_rgb.mp4\"\n",
    "skip_postproc = True\n",
    "anno = ntu_pose_extraction.ntu_pose_extraction(video, skip_postproc)\n"
   ]
  },
  {
   "cell_type": "code",
   "execution_count": 13,
   "metadata": {},
   "outputs": [
    {
     "name": "stdout",
     "output_type": "stream",
     "text": [
      "Loads checkpoint by http backend from path: https://download.openmmlab.com/mmdetection/v2.0/faster_rcnn/faster_rcnn_r50_fpn_1x_coco-person/faster_rcnn_r50_fpn_1x_coco-person_20201216_175929-d022e227.pth\n",
      "Performing Human Detection for each frame\n",
      "[>>>>>>>>>>>>>>>>>>>>>>>>>>>>>>>>] 10/10, 0.3 task/s, elapsed: 36s, ETA:     0s\n"
     ]
    }
   ],
   "source": [
    "from tempfile import TemporaryDirectory\n",
    "tmp_dir = TemporaryDirectory()\n",
    "\n",
    "frame_paths, _ = ntu_pose_extraction.frame_extract(video, out_dir=tmp_dir.name) \n",
    "det_results, _ = ntu_pose_extraction.detection_inference(\n",
    "    'demo/demo_configs/faster-rcnn_r50-caffe_fpn_ms-1x_coco-person.py',\n",
    "    'https://download.openmmlab.com/mmdetection/v2.0/faster_rcnn/faster_rcnn_r50_fpn_1x_coco-person/faster_rcnn_r50_fpn_1x_coco-person_20201216_175929-d022e227.pth',\n",
    "    frame_paths,\n",
    "    0.5,\n",
    "    device='cpu',\n",
    "    with_score=True)"
   ]
  },
  {
   "cell_type": "code",
   "execution_count": 15,
   "metadata": {},
   "outputs": [
    {
     "data": {
      "text/plain": [
       "[array([], shape=(0, 5), dtype=float32),\n",
       " array([], shape=(0, 5), dtype=float32),\n",
       " array([], shape=(0, 5), dtype=float32),\n",
       " array([], shape=(0, 5), dtype=float32),\n",
       " array([], shape=(0, 5), dtype=float32),\n",
       " array([], shape=(0, 5), dtype=float32),\n",
       " array([], shape=(0, 5), dtype=float32),\n",
       " array([], shape=(0, 5), dtype=float32),\n",
       " array([], shape=(0, 5), dtype=float32),\n",
       " array([], shape=(0, 5), dtype=float32)]"
      ]
     },
     "execution_count": 15,
     "metadata": {},
     "output_type": "execute_result"
    }
   ],
   "source": [
    "det_results"
   ]
  }
 ],
 "metadata": {
  "kernelspec": {
   "display_name": "mmaction",
   "language": "python",
   "name": "mmaction"
  },
  "language_info": {
   "codemirror_mode": {
    "name": "ipython",
    "version": 3
   },
   "file_extension": ".py",
   "mimetype": "text/x-python",
   "name": "python",
   "nbconvert_exporter": "python",
   "pygments_lexer": "ipython3",
   "version": "3.8.10"
  }
 },
 "nbformat": 4,
 "nbformat_minor": 2
}
