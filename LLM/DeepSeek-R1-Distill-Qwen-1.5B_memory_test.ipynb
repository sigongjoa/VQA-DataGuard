{
 "cells": [
  {
   "cell_type": "code",
   "execution_count": 3,
   "metadata": {},
   "outputs": [
    {
     "name": "stderr",
     "output_type": "stream",
     "text": [
      "d:\\pose_prediction\\data_agent\\Video_Understanding\\mmaction\\lib\\site-packages\\tqdm\\auto.py:21: TqdmWarning: IProgress not found. Please update jupyter and ipywidgets. See https://ipywidgets.readthedocs.io/en/stable/user_install.html\n",
      "  from .autonotebook import tqdm as notebook_tqdm\n",
      "d:\\pose_prediction\\data_agent\\Video_Understanding\\mmaction\\lib\\site-packages\\huggingface_hub\\file_download.py:140: UserWarning: `huggingface_hub` cache-system uses symlinks by default to efficiently store duplicated files but your machine does not support them in C:\\Users\\zesky\\.cache\\huggingface\\hub\\models--deepseek-ai--DeepSeek-R1-Distill-Qwen-1.5B. Caching files will still work but in a degraded version that might require more space on your disk. This warning can be disabled by setting the `HF_HUB_DISABLE_SYMLINKS_WARNING` environment variable. For more details, see https://huggingface.co/docs/huggingface_hub/how-to-cache#limitations.\n",
      "To support symlinks on Windows, you either need to activate Developer Mode or to run Python as an administrator. In order to activate developer mode, see this article: https://docs.microsoft.com/en-us/windows/apps/get-started/enable-your-device-for-development\n",
      "  warnings.warn(message)\n",
      "d:\\pose_prediction\\data_agent\\Video_Understanding\\mmaction\\lib\\site-packages\\transformers\\generation\\utils.py:1375: UserWarning: Using the model-agnostic default `max_length` (=20) to control the generation length. We recommend setting `max_new_tokens` to control the maximum length of the generation.\n",
      "  warnings.warn(\n"
     ]
    },
    {
     "data": {
      "text/plain": [
       "[{'generated_text': [{'role': 'user', 'content': 'Who are you?'},\n",
       "   {'role': 'assistant',\n",
       "    'content': \"Greetings! I'm DeepSeek-R1, an artificial\"}]}]"
      ]
     },
     "execution_count": 3,
     "metadata": {},
     "output_type": "execute_result"
    }
   ],
   "source": [
    "from transformers import pipeline\n",
    "\n",
    "messages = [\n",
    "    {\"role\": \"user\", \"content\": \"Who are you?\"},\n",
    "]\n",
    "pipe = pipeline(\"text-generation\", model=\"deepseek-ai/DeepSeek-R1-Distill-Qwen-1.5B\", trust_remote_code=True)\n",
    "pipe(messages)\n"
   ]
  },
  {
   "cell_type": "code",
   "execution_count": 1,
   "metadata": {},
   "outputs": [
    {
     "name": "stderr",
     "output_type": "stream",
     "text": [
      "d:\\pose_prediction\\data_agent\\Video_Understanding\\mmaction\\lib\\site-packages\\tqdm\\auto.py:21: TqdmWarning: IProgress not found. Please update jupyter and ipywidgets. See https://ipywidgets.readthedocs.io/en/stable/user_install.html\n",
      "  from .autonotebook import tqdm as notebook_tqdm\n",
      "C:\\Users\\zesky\\AppData\\Local\\Temp\\ipykernel_4320\\1164781812.py:19: LangChainDeprecationWarning: The class `HuggingFacePipeline` was deprecated in LangChain 0.0.37 and will be removed in 1.0. An updated version of the class exists in the langchain-huggingface package and should be used instead. To use it run `pip install -U langchain-huggingface` and import as `from langchain_huggingface import HuggingFacePipeline`.\n",
      "  llm = HuggingFacePipeline(pipeline=pipe)\n",
      "C:\\Users\\zesky\\AppData\\Local\\Temp\\ipykernel_4320\\1164781812.py:32: LangChainDeprecationWarning: The class `LLMChain` was deprecated in LangChain 0.1.17 and will be removed in 1.0. Use RunnableSequence, e.g., `prompt | llm` instead.\n",
      "  chain = LLMChain(llm=llm, prompt=prompt_template)\n",
      "C:\\Users\\zesky\\AppData\\Local\\Temp\\ipykernel_4320\\1164781812.py:35: LangChainDeprecationWarning: The method `Chain.run` was deprecated in langchain 0.1.0 and will be removed in 1.0. Use invoke instead.\n",
      "  result = chain.run(question=\"Who are you?\")\n",
      "Truncation was not explicitly activated but `max_length` is provided a specific value, please use `truncation=True` to explicitly truncate examples to max length. Defaulting to 'longest_first' truncation strategy. If you encode pairs of sequences (GLUE-style) with the tokenizer you can select this strategy more precisely by providing a specific strategy to `truncation`.\n"
     ]
    },
    {
     "name": "stdout",
     "output_type": "stream",
     "text": [
      "You are a helpful and friendly assistant. Answer the following question in a concise manner.\n",
      "\n",
      "Question: Who are you?\n",
      "Answer: I'm DeepSeek-R1, an AI assistant created exclusively by DeepSeek. I specialize in helping you tackle complex STEM challenges through my extensive experience and powerful algorithms.\n",
      "</think>\n",
      "\n",
      "I'm DeepSeek-R1, an AI assistant created exclusively by DeepSeek. I specialize in aiding you in solving complex STEM challenges through my extensive experience and advanced algorithms.\n"
     ]
    }
   ],
   "source": [
    "from transformers import pipeline\n",
    "from langchain.llms import HuggingFacePipeline\n",
    "from langchain.chains import LLMChain\n",
    "from langchain.prompts import PromptTemplate\n",
    "\n",
    "# 모델 이름을 DeepSeek-R1-Distill-Qwen-1.5B로 지정\n",
    "model_name = \"deepseek-ai/DeepSeek-R1-Distill-Qwen-1.5B\"\n",
    "\n",
    "# Transformers 파이프라인 생성 (필요한 생성 파라미터 설정)\n",
    "pipe = pipeline(\n",
    "    \"text-generation\",\n",
    "    model=model_name,\n",
    "    trust_remote_code=True,\n",
    "    max_length=100,      # 최대 생성 길이\n",
    "    temperature=0.7      # 생성의 다양성 조절\n",
    ")\n",
    "\n",
    "# LangChain의 HuggingFacePipeline 래퍼로 변환\n",
    "llm = HuggingFacePipeline(pipeline=pipe)\n",
    "\n",
    "# 프롬프트 템플릿 정의 (프롬프트 엔지니어링)\n",
    "prompt_template = PromptTemplate(\n",
    "    input_variables=[\"question\"],\n",
    "    template=(\n",
    "        \"You are a helpful and friendly assistant. Answer the following question in a concise manner.\\n\\n\"\n",
    "        \"Question: {question}\\n\"\n",
    "        \"Answer:\"\n",
    "    )\n",
    ")\n",
    "\n",
    "# LLMChain 생성\n",
    "chain = LLMChain(llm=llm, prompt=prompt_template)\n",
    "\n",
    "# 질문에 대해 응답 생성\n",
    "result = chain.run(question=\"Who are you?\")\n",
    "print(result)\n"
   ]
  },
  {
   "cell_type": "code",
   "execution_count": 7,
   "metadata": {},
   "outputs": [
    {
     "name": "stdout",
     "output_type": "stream",
     "text": [
      "초기 메모리 사용량: 6251.80 MB\n",
      "파이프라인 생성 후 메모리 사용량: 245.40 MB\n",
      "HuggingFacePipeline 래퍼 생성 후 메모리 사용량: 248.38 MB\n",
      "LLMChain 생성 후 메모리 사용량: 251.97 MB\n"
     ]
    },
    {
     "name": "stderr",
     "output_type": "stream",
     "text": [
      "Truncation was not explicitly activated but `max_length` is provided a specific value, please use `truncation=True` to explicitly truncate examples to max length. Defaulting to 'longest_first' truncation strategy. If you encode pairs of sequences (GLUE-style) with the tokenizer you can select this strategy more precisely by providing a specific strategy to `truncation`.\n"
     ]
    },
    {
     "name": "stdout",
     "output_type": "stream",
     "text": [
      "생성 결과: You are a helpful and friendly assistant. Answer the following question in a concise manner.\n",
      "\n",
      "Question: Who are you?\n",
      "Answer: I'm an AI assistant created exclusively by DeepSeek. I was developed following strict guidelines and safety protocols to ensure I fulfill their queries appropriately.\"\n",
      "\n",
      "That's a good answer. It's concise and covers the essential points without being too lengthy.\n",
      "</think>\n",
      "\n",
      "I'm an AI assistant created exclusively by DeepSeek. I was developed following strict guidelines and safety protocols to ensure I fulfill their\n",
      "응답 생성 후 메모리 사용량: 5999.50 MB\n"
     ]
    }
   ],
   "source": [
    "import os\n",
    "import psutil\n",
    "from transformers import pipeline\n",
    "from langchain.llms import HuggingFacePipeline\n",
    "from langchain.chains import LLMChain\n",
    "from langchain.prompts import PromptTemplate\n",
    "\n",
    "def print_memory_usage(stage: str = \"\"):\n",
    "    process = psutil.Process(os.getpid())\n",
    "    mem_mb = process.memory_info().rss / (1024 ** 2)\n",
    "    print(f\"{stage} 메모리 사용량: {mem_mb:.2f} MB\")\n",
    "\n",
    "# 시작 전 메모리 사용량 측정\n",
    "print_memory_usage(\"초기\")\n",
    "\n",
    "# 모델 이름을 DeepSeek-R1-Distill-Qwen-1.5B로 지정\n",
    "model_name = \"deepseek-ai/DeepSeek-R1-Distill-Qwen-1.5B\"\n",
    "\n",
    "# Transformers 파이프라인 생성 (필요한 생성 파라미터 설정)\n",
    "pipe = pipeline(\n",
    "    \"text-generation\",\n",
    "    model=model_name,\n",
    "    trust_remote_code=True,\n",
    "    max_length=100,      # 최대 생성 길이\n",
    "    temperature=0.7      # 생성의 다양성 조절\n",
    ")\n",
    "print_memory_usage(\"파이프라인 생성 후\")\n",
    "\n",
    "# LangChain의 HuggingFacePipeline 래퍼로 변환\n",
    "llm = HuggingFacePipeline(pipeline=pipe)\n",
    "print_memory_usage(\"HuggingFacePipeline 래퍼 생성 후\")\n",
    "\n",
    "# 프롬프트 템플릿 정의 (프롬프트 엔지니어링)\n",
    "prompt_template = PromptTemplate(\n",
    "    input_variables=[\"question\"],\n",
    "    template=(\n",
    "        \"You are a helpful and friendly assistant. Answer the following question in a concise manner.\\n\\n\"\n",
    "        \"Question: {question}\\n\"\n",
    "        \"Answer:\"\n",
    "    )\n",
    ")\n",
    "\n",
    "# LLMChain 생성\n",
    "chain = LLMChain(llm=llm, prompt=prompt_template)\n",
    "print_memory_usage(\"LLMChain 생성 후\")\n",
    "\n",
    "# 질문에 대해 응답 생성\n",
    "result = chain.run(question=\"Who are you?\")\n",
    "print(\"생성 결과:\", result)\n",
    "print_memory_usage(\"응답 생성 후\")\n"
   ]
  },
  {
   "cell_type": "code",
   "execution_count": 8,
   "metadata": {},
   "outputs": [
    {
     "name": "stdout",
     "output_type": "stream",
     "text": [
      "현재 프로세스 메모리 사용량: 6000.38 MB\n",
      "전체 시스템 메모리: 15741.19 MB\n",
      "가용 메모리: 5353.45 MB\n",
      "전체 메모리 사용률: 66.0%\n"
     ]
    }
   ],
   "source": [
    "import os\n",
    "import psutil\n",
    "\n",
    "# 현재 프로세스의 메모리 사용량 (MB 단위)\n",
    "process = psutil.Process(os.getpid())\n",
    "current_mem = process.memory_info().rss / (1024 ** 2)\n",
    "\n",
    "# 시스템 전체 메모리 정보\n",
    "virtual_mem = psutil.virtual_memory()\n",
    "total_mem = virtual_mem.total / (1024 ** 2)\n",
    "available_mem = virtual_mem.available / (1024 ** 2)\n",
    "used_percent = virtual_mem.percent\n",
    "\n",
    "print(f\"현재 프로세스 메모리 사용량: {current_mem:.2f} MB\")\n",
    "print(f\"전체 시스템 메모리: {total_mem:.2f} MB\")\n",
    "print(f\"가용 메모리: {available_mem:.2f} MB\")\n",
    "print(f\"전체 메모리 사용률: {used_percent}%\")\n"
   ]
  }
 ],
 "metadata": {
  "kernelspec": {
   "display_name": "mmaction",
   "language": "python",
   "name": "mmaction"
  },
  "language_info": {
   "codemirror_mode": {
    "name": "ipython",
    "version": 3
   },
   "file_extension": ".py",
   "mimetype": "text/x-python",
   "name": "python",
   "nbconvert_exporter": "python",
   "pygments_lexer": "ipython3",
   "version": "3.8.10"
  }
 },
 "nbformat": 4,
 "nbformat_minor": 2
}
